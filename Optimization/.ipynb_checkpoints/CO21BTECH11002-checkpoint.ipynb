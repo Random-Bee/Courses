{
 "cells": [
  {
   "cell_type": "code",
   "execution_count": 2,
   "id": "2fdbfa33",
   "metadata": {},
   "outputs": [],
   "source": [
    "import scipy.optimize as optimize\n",
    "import numpy as np\n",
    "from scipy.integrate import solve_ivp\n",
    "import matplotlib.pyplot as plt"
   ]
  },
  {
   "cell_type": "markdown",
   "id": "9fd88369",
   "metadata": {},
   "source": [
    "Q1. "
   ]
  },
  {
   "cell_type": "code",
   "execution_count": 3,
   "id": "481d720b",
   "metadata": {},
   "outputs": [],
   "source": [
    "t = np.array([0,0.05,0.1,0.15,0.2,0.25,0.3,0.35,0.4,0.45,0.5,0.55,0.6,0.65,0.7,0.75,0.8,0.85,0.9,0.95,1])\n",
    "Ca = np.array([1,0.7408085737,0.5487705749,0.4065777917,0.3011816229,0.2231419918,0.1652974378,0.1224669658,0.09072015312,0.06721351546,0.04978991986,0.03688877756,0.02732618977,0.02024565894,0.01499742617,0.01111142013,0.008231033807,0.006098278046,0.004517436309,0.003346953205,0.002479491948])\n",
    "Cb = np.array([0,0.0863971421,0.1504098084,0.1978074028,0.232939459,0.2589526694,0.2782341874,0.2925110114,0.3030932823,0.3109288282,0.3167366934,0.3210370741,0.3242246034,0.3265847804,0.3283341913,0.3296295266,0.3305896554,0.331300574,0.3318275212,0.3322176823,0.332506836])\n",
    "Cc = np.array([0,0.1727942842,0.3008196168,0.3956148055,0.4658789181,0.5179053388,0.5564683748,0.5850220228,0.6061865646,0.6218576564,0.6334733868,0.6420741483,0.6484492068,0.6531695607,0.6566683826,0.6592590532,0.6611793108,0.662601148,0.6636550425,0.6644353645,0.665013672])"
   ]
  },
  {
   "cell_type": "code",
   "execution_count": 4,
   "id": "c8fa8542",
   "metadata": {},
   "outputs": [],
   "source": [
    "def values(k):\n",
    "    # Values of Ca, Cb & Cc at given k\n",
    "    Ca_1 = Ca[0]*np.exp(-(k[0]+k[1])*t)\n",
    "    Cb_1 = Cb[0] + (k[0]/(k[0]+k[1]))*(Ca[0] - Ca_1)\n",
    "    Cc_1 = Cc[0] + (k[1]/(k[0]+k[1]))*(Ca[0] - Ca_1)\n",
    "    return Ca_1, Cb_1, Cc_1"
   ]
  },
  {
   "cell_type": "code",
   "execution_count": 5,
   "id": "161159a5",
   "metadata": {},
   "outputs": [],
   "source": [
    "def f(k):\n",
    "    Ca_1, Cb_1, Cc_1 = values(k)\n",
    "    # Function to be minimized\n",
    "    return np.sum((Ca_1-Ca)**2) + np.sum((Cb_1-Cb)**2) + np.sum((Cb_1-Cb)**2)"
   ]
  },
  {
   "cell_type": "code",
   "execution_count": 6,
   "id": "1f5fa327",
   "metadata": {},
   "outputs": [
    {
     "data": {
      "text/plain": [
       " active_mask: array([0., 0.])\n",
       "        cost: 4.714135600510094e-12\n",
       "         fun: array([3.07054901e-06])\n",
       "        grad: array([-9.80335963e-10, -2.01634918e-09])\n",
       "         jac: array([[-0.00031927, -0.00065667]])\n",
       "     message: '`gtol` termination condition is satisfied.'\n",
       "        nfev: 35\n",
       "        njev: 28\n",
       "  optimality: 2.016349175260614e-09\n",
       "      status: 1\n",
       "     success: True\n",
       "           x: array([1.9971732 , 3.99207297])"
      ]
     },
     "execution_count": 6,
     "metadata": {},
     "output_type": "execute_result"
    }
   ],
   "source": [
    "res1 = optimize.least_squares(f,(1,1))\n",
    "res1"
   ]
  },
  {
   "cell_type": "code",
   "execution_count": 7,
   "id": "b167e34c",
   "metadata": {},
   "outputs": [
    {
     "name": "stdout",
     "output_type": "stream",
     "text": [
      "Optimization terminated successfully.\n",
      "         Current function value: 0.000000\n",
      "         Iterations: 40\n",
      "         Function evaluations: 78\n"
     ]
    },
    {
     "data": {
      "text/plain": [
       "array([2.0000289 , 4.00006883])"
      ]
     },
     "execution_count": 7,
     "metadata": {},
     "output_type": "execute_result"
    }
   ],
   "source": [
    "# uncocstrained optimization\n",
    "res2 = optimize.fmin(f,(1,1))\n",
    "res2"
   ]
  },
  {
   "cell_type": "markdown",
   "id": "5cafbb94",
   "metadata": {},
   "source": [
    "Q2."
   ]
  },
  {
   "cell_type": "code",
   "execution_count": 8,
   "id": "d83c478a",
   "metadata": {},
   "outputs": [],
   "source": [
    "def fun(x):\n",
    "#     Function to be minimized\n",
    "    return (x[0]**2 + x[1] - 11)**2 + (x[0] + x[1]**2 - 7)**2"
   ]
  },
  {
   "cell_type": "code",
   "execution_count": 9,
   "id": "5de344ad",
   "metadata": {},
   "outputs": [],
   "source": [
    "cons = ({'type':'ineq', 'fun':lambda x:25 - x[0]**2 - x[1]**2})\n",
    "bounds = ((-5,5),(-5,5))"
   ]
  },
  {
   "cell_type": "code",
   "execution_count": 10,
   "id": "559d5311",
   "metadata": {},
   "outputs": [
    {
     "data": {
      "text/plain": [
       "     fun: 0.0014365358369823203\n",
       "     jac: array([0.34951574, 0.2991334 ])\n",
       " message: 'Optimization terminated successfully'\n",
       "    nfev: 29\n",
       "     nit: 8\n",
       "    njev: 8\n",
       "  status: 0\n",
       " success: True\n",
       "       x: array([-3.7751649 , -3.27843408])"
      ]
     },
     "execution_count": 10,
     "metadata": {},
     "output_type": "execute_result"
    }
   ],
   "source": [
    "res = optimize.minimize(fun, (-1,-1), method = 'SLSQP', bounds = bounds, constraints= cons)\n",
    "res"
   ]
  },
  {
   "cell_type": "code",
   "execution_count": 11,
   "id": "2a071281",
   "metadata": {},
   "outputs": [],
   "source": [
    "from pymoo.core.problem import Problem\n",
    "from pymoo.algorithms.soo.nonconvex.ga import GA\n",
    "from pymoo.problems import get_problem\n",
    "from pymoo.optimize import minimize"
   ]
  },
  {
   "cell_type": "code",
   "execution_count": 12,
   "id": "fa2597bd",
   "metadata": {},
   "outputs": [],
   "source": [
    "class G1(Problem):\n",
    "    def __init__(self):\n",
    "        n_var = 2\n",
    "        xl = np.array([-5,-5], dtype=float) # lower bounds\n",
    "        xu = np.array([5,5], dtype=float) # upper bounds\n",
    "        super().__init__(n_var=n_var,n_obj=1, n_ieq_constr=1, xl=xl, xu=xu, vtype=float)\n",
    "    def _evaluate(self, x, out, *args, **kwargs):\n",
    "        # function value\n",
    "        f = (x[:,0]**2 + x[:,1] - 11)**2 + (x[:,0] + x[:,1]**2 - 7)**2\n",
    "        # constraint\n",
    "        g1 = 25 - x[:,0]**2 - x[:,1]**2\n",
    "        out[\"F\"] = [f]\n",
    "        out[\"G\"] = [g1]"
   ]
  },
  {
   "cell_type": "code",
   "execution_count": 13,
   "id": "c9fd8fa5",
   "metadata": {
    "scrolled": true
   },
   "outputs": [
    {
     "name": "stdout",
     "output_type": "stream",
     "text": [
      "Best solution found: \n",
      "X = [-3.77926066 -3.28317794]\n",
      "F = [1.34536829e-07]\n"
     ]
    }
   ],
   "source": [
    "problem = G1()\n",
    "\n",
    "algorithm = GA()\n",
    "\n",
    "res = minimize(problem,\n",
    "               algorithm,\n",
    "               seed=1,\n",
    "               verbose=False)\n",
    "\n",
    "print(\"Best solution found: \\nX = %s\\nF = %s\" % (res.X, res.F))"
   ]
  },
  {
   "cell_type": "code",
   "execution_count": null,
   "id": "d1ed89ed",
   "metadata": {},
   "outputs": [],
   "source": []
  }
 ],
 "metadata": {
  "kernelspec": {
   "display_name": "Python 3 (ipykernel)",
   "language": "python",
   "name": "python3"
  },
  "language_info": {
   "codemirror_mode": {
    "name": "ipython",
    "version": 3
   },
   "file_extension": ".py",
   "mimetype": "text/x-python",
   "name": "python",
   "nbconvert_exporter": "python",
   "pygments_lexer": "ipython3",
   "version": "3.9.12"
  }
 },
 "nbformat": 4,
 "nbformat_minor": 5
}
